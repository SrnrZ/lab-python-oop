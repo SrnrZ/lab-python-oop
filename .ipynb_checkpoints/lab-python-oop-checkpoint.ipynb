{
 "cells": [
  {
   "cell_type": "markdown",
   "id": "25d7736c-ba17-4aff-b6bb-66eba20fbf4e",
   "metadata": {},
   "source": [
    "# Lab | Object Oriented Programming"
   ]
  },
  {
   "cell_type": "markdown",
   "id": "6f8e446f-16b4-4e21-92e7-9d3d1eb551b6",
   "metadata": {},
   "source": [
    "Objective: Practice how to work with OOP using classes, objects, and inheritance to create robust, maintainable, and scalable code."
   ]
  },
  {
   "cell_type": "markdown",
   "id": "20c3e882-9625-471e-afb4-48a4f40c5d1b",
   "metadata": {
    "tags": []
   },
   "source": [
    "## Challenge 1: Bank Account"
   ]
  },
  {
   "cell_type": "markdown",
   "id": "fe982bf8-9610-4de3-aa93-256db5a05903",
   "metadata": {},
   "source": [
    "Create a BankAccount class with the following attributes and methods:\n",
    "\n",
    "Attributes:\n",
    "\n",
    "- account_number (a unique identifier for the bank account)\n",
    "- balance (the current balance of the account. By default, is 0)\n",
    "\n",
    "Methods:\n",
    "\n",
    "- deposit(amount) - adds the specified amount to the account balance\n",
    "- withdraw(amount) - subtracts the specified amount from the account balance\n",
    "- get_balance() - returns the current balance of the account\n",
    "- get_account_number() - returns the account number of the account\n",
    "\n",
    "Instructions:\n",
    "\n",
    "- Create a BankAccount class with the above attributes and methods.\n",
    "- Test the class by creating a few instances of BankAccount and making deposits and withdrawals.\n",
    "- Ensure that the account_number attribute is unique for each instance of BankAccount.\n",
    "\n",
    "*Hint: create a class attribute account_count. The account_count class attribute is used to keep track of the total number of bank accounts that have been created using the BankAccount class. Every time a new BankAccount object is created, the account_count attribute is incremented by one. This can be useful for various purposes, such as generating unique account numbers or monitoring the growth of a bank's customer base.*"
   ]
  },
  {
   "cell_type": "code",
   "execution_count": 126,
   "id": "21625526-3fae-4c55-bab5-f91940070681",
   "metadata": {},
   "outputs": [],
   "source": [
    "# your code goes here\n",
    "class BankAccount:\n",
    "    \n",
    "    def __init__(self, account_number, balance):\n",
    "        self.account_number = account_number\n",
    "        self.balance = balance\n",
    "\n",
    "    # Class Methods\n",
    "    def deposit(self, amount):\n",
    "        self.balance = amount + self.balance\n",
    "        return (f'New balance of account{self.account_number} is {self.balance}')\n",
    "\n",
    "    def withdraw(self, amount):\n",
    "        self.balance = self.balance - amount\n",
    "        if self.balance < amount:\n",
    "            self.balance += amount\n",
    "            print(f'Insufficient funds for withdrawing {amount}, the current balance is {self.balance}.')\n",
    "        else:\n",
    "            return (f'New balance of account{self.account_number} is {self.balance}')\n",
    "\n",
    "    def get_balance(self):\n",
    "        return (f'account{self.account_number} has a balance of {self.balance}')\n",
    "\n",
    "    def get_account_number(self):\n",
    "        return (f'account number is {self.account_number}')"
   ]
  },
  {
   "cell_type": "code",
   "execution_count": 127,
   "id": "31546058-6091-46d0-94bb-91b085da7c90",
   "metadata": {},
   "outputs": [
    {
     "name": "stdout",
     "output_type": "stream",
     "text": [
      "account1 has a balance of 1000\n",
      "account number is 1\n",
      "New balance of account1 is 1500\n",
      "New balance of account1 is 1300\n",
      "Insufficient funds for withdrawing 600, the current balance is 500.\n",
      "None\n"
     ]
    }
   ],
   "source": [
    "account1 = BankAccount(1, 1000)\n",
    "account2 = BankAccount(2, 500)\n",
    "\n",
    "# 1\n",
    "print(account1.get_balance())\n",
    "print(account1.get_account_number())\n",
    "\n",
    "# 2\n",
    "print(account1.deposit(500))\n",
    "print(account1.withdraw(200))\n",
    "\n",
    "# 3\n",
    "print(account2.withdraw(600))\n"
   ]
  },
  {
   "cell_type": "code",
   "execution_count": null,
   "id": "ee789466-d4cf-4dd8-b742-6863d42c3e5c",
   "metadata": {},
   "outputs": [],
   "source": [
    "# Testing the BankAccount class\n",
    "# Creating two instances of the BankAccount class with initial balances of 1000 and 500\n",
    "account1 = BankAccount(1000)\n",
    "account2 = BankAccount(500)\n",
    "\n",
    "print(\"Account 1 balance:\", account1.get_balance()) # This should print 1000\n",
    "print(\"Account 1 number:\", account1.get_account_number()) # This should print 1\n",
    "\n",
    "print(\"Account 2 balance:\", account2.get_balance()) #This should print 500\n",
    "print(\"Account 2 number:\", account2.get_account_number()) #This should print 2\n",
    "\n",
    "account1.deposit(500) # We depoist 500 in the first account\n",
    "account1.withdraw(200) # We withdraw 200 in the first account\n",
    "print(\"Account 1 balance after transactions:\", account1.get_balance()) # This should print 1300\n",
    "\n",
    "account2.withdraw(600) # We withdraw 600 in the 2nd account \n",
    "print(\"Account 2 balance after transactions:\", account2.get_balance())# This should print insufficient balance, and still 500 in funds"
   ]
  },
  {
   "cell_type": "markdown",
   "id": "929305ed-67cb-4094-8af2-4fa9b751832a",
   "metadata": {},
   "source": [
    "## Challenge 2: Savings Account\n",
    "\n",
    "Create a SavingsAccount class that inherits from the BankAccount class. The SavingsAccount class should have the following additional attributes and methods:\n",
    "\n",
    "Attributes:\n",
    "\n",
    "- interest_rate (the annual interest rate for the savings account. By default - if no value is provided - sets it to 0.01)\n",
    "\n",
    "Methods:\n",
    "\n",
    "- add_interest() - adds the interest earned to the account balance\n",
    "- get_interest_rate() - returns the interest rate for the account\n",
    "\n",
    "Instructions:\n",
    "\n",
    "- Create a SavingsAccount class that inherits from the BankAccount class and has the above attributes and methods.\n",
    "- Test the class by creating a few instances of SavingsAccount and making deposits and withdrawals, as well as adding interest."
   ]
  },
  {
   "cell_type": "markdown",
   "id": "d2c84bdb-e7d1-491d-9b0e-194288702c02",
   "metadata": {},
   "source": [
    "Example of testing the SavingsAccount\n",
    "\n",
    "- Create a SavingsAccount object with a balance of $100 and interest rate of 2%\n",
    "\n",
    "- Deposit $50 into the savings account\n",
    "\n",
    "- Withdraw $25 from the savings account\n",
    "\n",
    "- Add interest to the savings account (use the default 0.01)\n",
    "\n",
    "- Print the current balance and interest rate of the savings account\n",
    "\n",
    "Expected output:\n",
    "    \n",
    "    Current balance: 127.5\n",
    "    \n",
    "    Interest rate: 0.02"
   ]
  },
  {
   "cell_type": "code",
   "execution_count": 142,
   "id": "bccc7f6d-d58c-4909-9314-aaf4afc1cd30",
   "metadata": {},
   "outputs": [],
   "source": [
    "# your code goes here\n",
    "\n",
    "class SavingsAccount(BankAccount):\n",
    "\n",
    "    def __init__(self, account_number, balance, interest_rate=0.01):\n",
    "        super().__init__(account_number, balance)\n",
    "        self.interest_rate = interest_rate\n",
    "\n",
    "    # Class Methods\n",
    "    def add_interest(self, interest_rate):\n",
    "        self.interest_rate = interest_rate\n",
    "        return self.interest_rate\n",
    "\n",
    "    def get_interest_rate(self):\n",
    "        return self.interest_rate\n"
   ]
  },
  {
   "cell_type": "code",
   "execution_count": 145,
   "id": "bc4de855-2f24-494f-9410-3d25305b822c",
   "metadata": {},
   "outputs": [
    {
     "name": "stdout",
     "output_type": "stream",
     "text": [
      "0.02\n",
      "0.02\n"
     ]
    }
   ],
   "source": [
    "# New Account\n",
    "\n",
    "account3 = SavingsAccount(3, 100)\n",
    "\n",
    "print(account3.add_interest(0.02))\n",
    "print(account3.get_interest_rate())"
   ]
  },
  {
   "cell_type": "markdown",
   "id": "a5455a88-a8d1-47a6-86b0-7c70647b4f31",
   "metadata": {},
   "source": [
    "### Challenge 3: Checking Account\n",
    "\n",
    "Create a CheckingAccount class that inherits from the BankAccount class. The CheckingAccount class should have the following additional attributes and methods:\n",
    "\n",
    "Attributes:\n",
    "\n",
    "- transaction_fee (the fee charged per transaction. By default is 1$)\n",
    "- transaction_count (the number of transactions made in the current month)\n",
    "\n",
    "Methods:\n",
    "\n",
    "- deduct_fees() - deducts transaction fees from the account balance based on the number of transactions made in the current month and the transaction fee per transaction. The method calculates the total fees by multiplying the transaction count with the transaction fee, and deducts the fees from the account balance if it's sufficient. If the balance is insufficient, it prints an error message. Otherwise, it prints how much it's been deducted. After deducting the fees, the method resets the transaction count to 0.\n",
    "- reset_transactions() - resets the transaction count to 0\n",
    "- get_transaction_count() - returns the current transaction count for the account\n",
    "\n",
    "Instructions:\n",
    "\n",
    "- Create a CheckingAccount class that inherits from the BankAccount class and has the above attributes and methods.\n",
    "- Test the class by creating a few instances of CheckingAccount and making deposits, withdrawals, and transactions to deduct fees.\n",
    "\n",
    "Note: To ensure that the transaction count is updated every time a deposit or withdrawal is made, we need to overwrite the deposit and withdraw methods inherited from the BankAccount class. "
   ]
  },
  {
   "cell_type": "code",
   "execution_count": 278,
   "id": "3c883c6e-3cb8-4043-92d3-12409668a28e",
   "metadata": {},
   "outputs": [],
   "source": [
    "class CheckingAccount(BankAccount):\n",
    "    def __init__(self, account_number, balance, transaction_fee=1, transaction_count=0):\n",
    "        super().__init__(account_number, balance)\n",
    "        self.transaction_fee = transaction_fee\n",
    "        self.transaction_count = 0\n",
    "        self.deducted_fees = False # with sellllfffff to initiate it\n",
    "\n",
    "    # Class Methods\n",
    "    def deduct_fees(self):\n",
    "        fees_total = self.transaction_fee * self.transaction_count\n",
    "        self.balance -= fees_total\n",
    "        if self.balance < 0:\n",
    "            print(f\"ERROR: Your {self.balance} is insufficient for paying {fees_total} fees in total\")\n",
    "        else:\n",
    "            print(f'Fees of {fees_total} in total have been deducted from your bank account{self.account_number}')\n",
    "            self.deducted_fees = True\n",
    "            self.reset_transactions()\n",
    "        \n",
    "    def reset_transactions(self):     \n",
    "        if self.deducted_fees == True:\n",
    "            fees_total_removal = 1 * self.transaction_count\n",
    "            self.transaction_count -= fees_total_removal\n",
    "            return self.transaction_count\n",
    "\n",
    "    def get_transaction_count(self):\n",
    "        return self.transaction_count\n",
    "    \n",
    "    # Class Method Overwrites\n",
    "    def deposit(self, amount):\n",
    "        self.transaction_count += 1\n",
    "        self.balance += amount\n",
    "        return (f'New balance of account{self.account_number} is {self.balance}')\n",
    "\n",
    "    def withdraw(self, amount):\n",
    "        self.transaction_count += 1\n",
    "        self.balance -= amount\n",
    "        if self.balance < amount:\n",
    "            self.balance += amount\n",
    "            print(f'Insufficient funds for withdrawing {amount}, the current balance is {self.balance}.')\n",
    "        else:\n",
    "            return (f'New balance of account{self.account_number} is {self.balance}')"
   ]
  },
  {
   "cell_type": "code",
   "execution_count": 279,
   "id": "0894c37b-2133-4fb1-a959-3c37ddde678a",
   "metadata": {},
   "outputs": [
    {
     "name": "stdout",
     "output_type": "stream",
     "text": [
      "New balance of account4 is 600\n",
      "New balance of account4 is 550\n",
      "Fees of 4 in total have been deducted from your bank account4\n",
      "None\n",
      "account4 has a balance of 546\n",
      "0\n",
      "New balance of account4 is 746\n",
      "New balance of account4 is 671\n",
      "Fees of 4 in total have been deducted from your bank account4\n",
      "None\n",
      "account4 has a balance of 667\n",
      "0\n"
     ]
    }
   ],
   "source": [
    "account4 = CheckingAccount(4, 500, 2)\n",
    "\n",
    "print(account4.deposit(100))\n",
    "print(account4.withdraw(50))\n",
    "print(account4.deduct_fees())\n",
    "print(account4.get_balance())\n",
    "print(account4.get_transaction_count())\n",
    "print(account4.deposit(200))\n",
    "print(account4.withdraw(75))\n",
    "print(account4.deduct_fees())\n",
    "print(account4.get_balance())\n",
    "print(account4.get_transaction_count())"
   ]
  },
  {
   "cell_type": "markdown",
   "id": "8217ec46-3eae-4a7c-9c7c-d4a87aac7e6d",
   "metadata": {},
   "source": [
    "Example of testing CheckingAccount:\n",
    "\n",
    "    - Create a new checking account with a balance of 500 dollars and a transaction fee of 2 dollars\n",
    "    - Deposit 100 dollars into the account \n",
    "    - Withdraw 50 dollars from the account \n",
    "    - Deduct the transaction fees from the account\n",
    "    - Get the current balance and transaction count\n",
    "    - Deposit 200 dollars into the account\n",
    "    - Withdraw 75 dollars from the account\n",
    "    - Deduct the transaction fees from the account\n",
    "    - Get the current balance and transaction count again\n",
    "    \n",
    "\n",
    "Expected output:\n",
    "    \n",
    "    Transaction fees of 4$ have been deducted from your account balance.\n",
    "    \n",
    "    Current balance: 546\n",
    "    \n",
    "    Transaction count: 0\n",
    "    \n",
    "    Transaction fees of 4$ have been deducted from your account balance.\n",
    "    \n",
    "    Current balance: 667\n",
    "    \n",
    "    Transaction count: 0\n",
    "\n",
    "Note: *the print \"Transaction fees of 4$ have been deducted from your account balance\" is done in the method deduct_fees*"
   ]
  },
  {
   "cell_type": "code",
   "execution_count": 212,
   "id": "3bb5866a-35ce-4f09-9d50-72c1ebe77e15",
   "metadata": {},
   "outputs": [],
   "source": [
    "# Task with calling range\n",
    "\n",
    "class CheckingAccount(BankAccount):\n",
    "    def __init__(self, account_number, balance, transaction_fee=1, transaction_count=0):\n",
    "        super().__init__(account_number, balance)\n",
    "        self.transaction_fee = transaction_fee\n",
    "        self.transaction_count = 0\n",
    "\n",
    "    # Class Methods\n",
    "    def deduct_fees(self):\n",
    "        for transactions in range(self.transaction_count):\n",
    "            new_balance = self.balance - self.transaction_fee\n",
    "        return new_balance\n",
    "\n",
    "    def reset_transactions(self):\n",
    "        for transactions in range(self.transaction_count):\n",
    "            reset = self.transaction_count - 1\n",
    "        return reset\n",
    "\n",
    "    def get_transaction_count(self):\n",
    "        return self.transaction_count\n",
    "    \n",
    "    # Class Method Overwrites\n",
    "    def deposit(self, amount):\n",
    "        self.transaction_count += 1\n",
    "        self.balance = amount + self.balance\n",
    "        return (f'New balance of account{self.account_number} is {self.balance}')\n",
    "\n",
    "    def withdraw(self, amount):\n",
    "        self.transaction_count += 1\n",
    "        self.balance = self.balance - amount\n",
    "        if self.balance < amount:\n",
    "            self.balance += amount\n",
    "            print(f'Insufficient funds for withdrawing {amount}, the current balance is {self.balance}.')\n",
    "        else:\n",
    "            return (f'New balance of account{self.account_number} is {self.balance}')\n"
   ]
  },
  {
   "cell_type": "code",
   "execution_count": 213,
   "id": "50cf4e24-93b9-4adb-9edc-5f030967ef5f",
   "metadata": {},
   "outputs": [
    {
     "name": "stdout",
     "output_type": "stream",
     "text": [
      "New balance of account4 is 600\n",
      "New balance of account4 is 550\n",
      "New balance of account4 is 650\n"
     ]
    },
    {
     "ename": "TypeError",
     "evalue": "'range' object is not callable",
     "output_type": "error",
     "traceback": [
      "\u001b[1;31m---------------------------------------------------------------------------\u001b[0m",
      "\u001b[1;31mTypeError\u001b[0m                                 Traceback (most recent call last)",
      "Cell \u001b[1;32mIn[213], line 6\u001b[0m\n\u001b[0;32m      4\u001b[0m \u001b[38;5;28mprint\u001b[39m(account4\u001b[38;5;241m.\u001b[39mwithdraw(\u001b[38;5;241m50\u001b[39m))\n\u001b[0;32m      5\u001b[0m \u001b[38;5;28mprint\u001b[39m(account4\u001b[38;5;241m.\u001b[39mdeposit(\u001b[38;5;241m100\u001b[39m))\n\u001b[1;32m----> 6\u001b[0m \u001b[38;5;28mprint\u001b[39m(account4\u001b[38;5;241m.\u001b[39mdeduct_fees())\n\u001b[0;32m      7\u001b[0m \u001b[38;5;28mprint\u001b[39m(account4\u001b[38;5;241m.\u001b[39mget_transaction_count())\n",
      "Cell \u001b[1;32mIn[212], line 11\u001b[0m, in \u001b[0;36mCheckingAccount.deduct_fees\u001b[1;34m(self)\u001b[0m\n\u001b[0;32m     10\u001b[0m \u001b[38;5;28;01mdef\u001b[39;00m \u001b[38;5;21mdeduct_fees\u001b[39m(\u001b[38;5;28mself\u001b[39m):\n\u001b[1;32m---> 11\u001b[0m     \u001b[38;5;28;01mfor\u001b[39;00m transactions \u001b[38;5;129;01min\u001b[39;00m \u001b[38;5;28mrange\u001b[39m(\u001b[38;5;28mself\u001b[39m\u001b[38;5;241m.\u001b[39mtransaction_count):\n\u001b[0;32m     12\u001b[0m         new_balance \u001b[38;5;241m=\u001b[39m \u001b[38;5;28mself\u001b[39m\u001b[38;5;241m.\u001b[39mbalance \u001b[38;5;241m-\u001b[39m \u001b[38;5;28mself\u001b[39m\u001b[38;5;241m.\u001b[39mtransaction_fee\n\u001b[0;32m     13\u001b[0m     \u001b[38;5;28;01mreturn\u001b[39;00m new_balance\n",
      "\u001b[1;31mTypeError\u001b[0m: 'range' object is not callable"
     ]
    }
   ],
   "source": [
    "account4 = CheckingAccount(4, 500, 2)\n",
    "\n",
    "print(account4.deposit(100))\n",
    "print(account4.withdraw(50))\n",
    "print(account4.deposit(100))\n",
    "print(account4.deduct_fees())\n",
    "print(account4.get_transaction_count())"
   ]
  },
  {
   "cell_type": "code",
   "execution_count": 210,
   "id": "faa5b148-c11b-4be0-b810-de8a7da81451",
   "metadata": {},
   "outputs": [],
   "source": [
    "# Task with list append\n",
    "\n",
    "class CheckingAccount(BankAccount):\n",
    "    def __init__(self, account_number, balance, transaction_fee=1, transaction_count=0):\n",
    "        super().__init__(account_number, balance)\n",
    "        self.transaction_fee = transaction_fee\n",
    "        self.transaction_count = []\n",
    "\n",
    "    # Class Methods\n",
    "    def deduct_fees(self):\n",
    "        for transactions in (self.transaction_count):\n",
    "            new_balance = self.balance - self.transaction_fee\n",
    "        return new_balance\n",
    "\n",
    "    def reset_transactions(self):\n",
    "        for transactions in (self.transaction_count):\n",
    "            reset = self.transaction_count - 1\n",
    "        return reset\n",
    "\n",
    "    def get_transaction_count(self):\n",
    "        for transaction in self.transaction_count:\n",
    "            count = transaction + 1\n",
    "        return count\n",
    "    \n",
    "    # Class Method Overwrites\n",
    "    def deposit(self, amount):\n",
    "        self.transaction_count.append(1)\n",
    "        self.balance = amount + self.balance\n",
    "        return (f'New balance of account{self.account_number} is {self.balance}')\n",
    "\n",
    "    def withdraw(self, amount):\n",
    "        self.transaction_count.append(1)\n",
    "        self.balance = self.balance - amount\n",
    "        if self.balance < amount:\n",
    "            self.balance += amount\n",
    "            print(f'Insufficient funds for withdrawing {amount}, the current balance is {self.balance}.')\n",
    "        else:\n",
    "            return (f'New balance of account{self.account_number} is {self.balance}')"
   ]
  },
  {
   "cell_type": "code",
   "execution_count": 211,
   "id": "92ae0094-96b0-4bbb-aaa3-cca66b39f615",
   "metadata": {},
   "outputs": [
    {
     "name": "stdout",
     "output_type": "stream",
     "text": [
      "New balance of account4 is 600\n",
      "New balance of account4 is 550\n",
      "New balance of account4 is 650\n",
      "648\n",
      "2\n"
     ]
    }
   ],
   "source": [
    "account4 = CheckingAccount(4, 500, 2)\n",
    "\n",
    "print(account4.deposit(100))\n",
    "print(account4.withdraw(50))\n",
    "print(account4.deposit(100))\n",
    "print(account4.deduct_fees())\n",
    "print(account4.get_transaction_count())"
   ]
  }
 ],
 "metadata": {
  "kernelspec": {
   "display_name": "Python 3 (ipykernel)",
   "language": "python",
   "name": "python3"
  },
  "language_info": {
   "codemirror_mode": {
    "name": "ipython",
    "version": 3
   },
   "file_extension": ".py",
   "mimetype": "text/x-python",
   "name": "python",
   "nbconvert_exporter": "python",
   "pygments_lexer": "ipython3",
   "version": "3.11.7"
  }
 },
 "nbformat": 4,
 "nbformat_minor": 5
}
